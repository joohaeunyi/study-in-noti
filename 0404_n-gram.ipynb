{
 "cells": [
  {
   "cell_type": "markdown",
   "id": "aac4dc3c-f4e1-4977-b2c1-86ff6c70c710",
   "metadata": {},
   "source": [
    "# n-gram\n",
    "* n-gram은 연속된 n개의 단어, 문자, 혹은 다른 기호들의 조합을 나타냄 \n",
    "* n은 정수값으로, 주로 1보다 큰 값을 사용.\n",
    "* 예를 들어, 2-gram은 두 개의 연속된 단어의 조합을 나타냄\n",
    "\n",
    "2-gram 예시\n",
    "* 입력 텍스트 : \"나는 저녁에 새로 나온 라면을 먹었다.\"\n",
    "* 결과 : ['나는 저녁에', '저녁에 새로', '새로 나온', '나온 라면을', '라면을 먹었다.']\n",
    "\n",
    "n-gram 사용\n",
    "* n-gram을 사용하면 텍스트의 구조적 특성을 파악하고 이해할 수 있음 --> 어떻게?\n",
    "* 이를 통해 문장이나 문서의 의미를 이해하거나, 다음 단어를 예측하는 등의 작업을 수행할 수 있음\n",
    "\n",
    "텍스트 분류, 유사도 분석 등에 활용\n",
    "\n",
    "한계\n",
    "* n값 설정에 따라 예측 능력 저하 혹은 계산 비용 높아지는 문제 발생 (n값의 설정 문제)\n",
    "* 대규모 텍스트에서는 많은 n-gram이 발생 -> 희소성 문제 발생 (특정한 n-gram이 데이터에서 출현할 확률이 매우 낮음) 희소성이 작아진다는 게 무슨 뜻?"
   ]
  },
  {
   "cell_type": "code",
   "execution_count": 61,
   "id": "090a726e-a9f9-4099-affe-522d7fc66aaf",
   "metadata": {
    "scrolled": true
   },
   "outputs": [
    {
     "name": "stdout",
     "output_type": "stream",
     "text": [
      "2-gram:\n",
      "This is\n",
      "an example\n",
      "sentence for\n",
      "generating n-grams.\n",
      "\n",
      "3-gram:\n",
      "This is an\n",
      "example sentence for\n",
      "generating n-grams.\n"
     ]
    }
   ],
   "source": [
    "# 내 풀이\n",
    "# 잘못 이해했다..\n",
    "\n",
    "def generate_ngrams(text, n):\n",
    "    \"\"\"\n",
    "    문장을 n-gram으로 변환하는 함수\n",
    "    \n",
    "    Args:\n",
    "        text (str): 변환할 문장\n",
    "        n (int): n-gram의 길이\n",
    "        \n",
    "    Returns:\n",
    "        list: n-gram으로 변환된 결과\n",
    "    \"\"\"\n",
    "    # 텍스트를 공백을 기준으로 분할\n",
    "\n",
    "    # n-gram 생성을 위한 빈 리스트 생성\n",
    "\n",
    "    # 리스트에서 n-gram 생성\n",
    "    # for문 활용\n",
    "    # 3-grams의 결과 예시\n",
    "    '''\n",
    "    ['This is an',\n",
    "     'is an example',\n",
    "     'an example sentence',\n",
    "     'example sentence for',\n",
    "     'sentence for generating',\n",
    "     'for generating n-grams.']\n",
    "    '''\n",
    "    lst = text.split(' ')\n",
    "    idx_lst = [i for i in range(len(lst))]\n",
    "    t_lst = []\n",
    "    ngrams = []\n",
    "    for i in range(int(np.ceil(len(lst)/n))):\n",
    "        t_lst.append(idx_lst[i*n:(i+1)*n])\n",
    " \n",
    "    for tt_lst in t_lst:\n",
    "        a = [lst[i] for i in tt_lst]\n",
    "        t_text = ' '.join(a)\n",
    "        ngrams.append(t_text)\n",
    "    return ngrams\n",
    "\n",
    "# 예시 문자열\n",
    "text = \"This is an example sentence for generating n-grams.\"\n",
    "\n",
    "# 2-gram 생성\n",
    "n = 2\n",
    "result = generate_ngrams(text, n)\n",
    "print(f\"{n}-gram:\")\n",
    "for ngram in result:\n",
    "    print(ngram)\n",
    "\n",
    "# 3-gram 생성\n",
    "n = 3\n",
    "result = generate_ngrams(text, n)\n",
    "print(f\"\\n{n}-gram:\")\n",
    "for ngram in result:\n",
    "    print(ngram)"
   ]
  },
  {
   "cell_type": "code",
   "execution_count": 70,
   "id": "f3d8732c-75ac-4387-807d-01aea3f76bb5",
   "metadata": {},
   "outputs": [
    {
     "name": "stdout",
     "output_type": "stream",
     "text": [
      "set()\n",
      "Jaccard Similarity: 0.0\n"
     ]
    }
   ],
   "source": [
    "'''\n",
    "자카드 유사도 : 두 집합의 공통된 요소의 비율을 측정하여 유사성을 결정\n",
    "공식 : |A∩B|/|A∪B|\n",
    "예시)\n",
    "A = {1, 2, 3, 4}\n",
    "B = {3, 4, 5, 6}\n",
    "|{3,4}| / |{}1,2,3,4,5,6| = 2/6 = 1/3\n",
    "'''\n",
    "def jaccard_similarity(s1, s2):\n",
    "    \"\"\"\n",
    "    두 집합의 Jaccard 유사도를 계산하는 함수\n",
    "    \n",
    "    Args:\n",
    "        s1 (list): 첫 번째 집합\n",
    "        s2 (list): 두 번째 집합\n",
    "        \n",
    "    Returns:\n",
    "        float: Jaccard 유사도\n",
    "    \"\"\"\n",
    "    # 두 개의 입력 집합을 생성\n",
    "    set1 = set(s1)\n",
    "    set2 = set(s2)\n",
    "    \n",
    "    # 두 집합의 교집합 크기 계산\n",
    "    intersection = set1 & set2\n",
    "    \n",
    "    # 두 집합의 합집합 크기 계산\n",
    "    union = set1 | set2\n",
    "    \n",
    "    # Jaccard 유사도 계산 및 반환\n",
    "    \n",
    "    return len(intersection)/ len(union)\n",
    "\n",
    "# 예시 문장\n",
    "sentence1 = \"This is a cat.\"\n",
    "sentence2 = \"That is a dog.\"\n",
    "\n",
    "# 문장을 2-gram으로 변환\n",
    "n = 2\n",
    "ngrams1 = generate_ngrams(sentence1, n)\n",
    "ngrams2 = generate_ngrams(sentence2, n)\n",
    "\n",
    "# Jaccard 유사도 계산\n",
    "similarity = jaccard_similarity(ngrams1, ngrams2)\n",
    "print(\"Jaccard Similarity:\", similarity)"
   ]
  },
  {
   "cell_type": "code",
   "execution_count": 71,
   "id": "4036660f",
   "metadata": {},
   "outputs": [
    {
     "data": {
      "text/plain": [
       "['That is', 'a dog.']"
      ]
     },
     "execution_count": 71,
     "metadata": {},
     "output_type": "execute_result"
    }
   ],
   "source": [
    "# 예시 문장\n",
    "sentence1 = \"This is a cat.\"\n",
    "sentence2 = \"That is a dog.\"\n",
    "\n",
    "# 문장을 2-gram으로 변환\n",
    "n = 2\n",
    "ngrams1 = generate_ngrams(sentence1, n)\n",
    "ngrams2 = generate_ngrams(sentence2, n)\n",
    "ngrams2"
   ]
  },
  {
   "cell_type": "markdown",
   "id": "f706f01f-b288-442b-b6bf-091661bf2076",
   "metadata": {
    "jp-MarkdownHeadingCollapsed": true
   },
   "source": [
    "# 정답"
   ]
  },
  {
   "cell_type": "code",
   "execution_count": 10,
   "id": "4bb3c4e9-5f31-475b-8702-4a123d220b39",
   "metadata": {},
   "outputs": [
    {
     "name": "stdout",
     "output_type": "stream",
     "text": [
      "Jaccard Similarity: 0.2\n"
     ]
    }
   ],
   "source": [
    "def generate_ngrams(text, n):\n",
    "    words = text.split()\n",
    "    ngrams = []\n",
    "    for i in range(len(words)-n+1):\n",
    "        ngrams.append(' '.join(words[i:i+n]))\n",
    "        \n",
    "def jaccard_similarity(s1, s2):\n",
    "    set1 = set(s1)\n",
    "    set2 = set(s2)\n",
    "    intersection = len(set1.intersection(set2))\n",
    "    union = len(set1) + len(set2) - intersection\n",
    "    return intersection / union\n",
    "\n",
    "# 예시 문장\n",
    "sentence1 = \"This is a cat.\"\n",
    "sentence2 = \"That is a dog.\"\n",
    "\n",
    "# 문장을 2-gram으로 변환\n",
    "n = 2\n",
    "ngrams1 = generate_ngrams(sentence1, n)\n",
    "ngrams2 = generate_ngrams(sentence2, n)\n",
    "\n",
    "# Jaccard 유사도 계산\n",
    "similarity = jaccard_similarity(ngrams1, ngrams2)\n",
    "print(\"Jaccard Similarity:\", similarity)"
   ]
  },
  {
   "cell_type": "code",
   "execution_count": null,
   "id": "252dcf1f-bfc5-4950-b0a0-6ec0de9f9aff",
   "metadata": {},
   "outputs": [],
   "source": []
  }
 ],
 "metadata": {
  "kernelspec": {
   "display_name": "Python 3 (ipykernel)",
   "language": "python",
   "name": "python3"
  },
  "language_info": {
   "codemirror_mode": {
    "name": "ipython",
    "version": 3
   },
   "file_extension": ".py",
   "mimetype": "text/x-python",
   "name": "python",
   "nbconvert_exporter": "python",
   "pygments_lexer": "ipython3",
   "version": "3.9.12"
  }
 },
 "nbformat": 4,
 "nbformat_minor": 5
}
